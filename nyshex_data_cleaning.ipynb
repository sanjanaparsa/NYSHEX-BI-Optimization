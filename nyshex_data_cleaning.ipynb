import pandas as pd
import matplotlib.pyplot as plt
import seaborn as sns

# Load cleaned data
df = pd.read_csv('../data/cleaned/transactions_clean.csv')

# Discount Analysis by Shipment Mode
discount_analysis = df.groupby(['shipment_mode', 'product_importance'])['discount_offered'].agg(
    ['mean', 'sum', 'count']).reset_index()

# Visualization
plt.figure(figsize=(10,6))
sns.barplot(data=discount_analysis, 
            x='shipment_mode', 
            y='mean', 
            hue='product_importance',
            palette='viridis')
plt.title('Average Discount by Shipment Mode and Product Importance')
plt.ylabel('Average Discount ($)')
plt.xlabel('Shipment Mode')
plt.tight_layout()
plt.savefig('../reports/discount_analysis.png')
plt.show()

# Statistical Test
from scipy import stats
flight_discounts = df[df['shipment_mode']=='Flight']['discount_offered']
ship_discounts = df[df['shipment_mode']=='Ship']['discount_offered']
t_stat, p_value = stats.ttest_ind(flight_discounts, ship_discounts)
print(f"T-test between Flight and Ship discounts: p-value = {p_value:.4f}")